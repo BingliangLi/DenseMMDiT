{
 "cells": [
  {
   "cell_type": "code",
   "execution_count": null,
   "metadata": {},
   "outputs": [],
   "source": [
    "import pickle\n",
    "from tqdm import tqdm\n",
    "from PIL import Image\n",
    "from torchvision.transforms import Compose, Resize, CenterCrop, ToTensor, Normalize\n",
    "from torchmetrics.multimodal.clip_score import CLIPScore\n",
    "import torch\n",
    "\n",
    "# Load the dataset\n",
    "with open('./dataset/testset.pkl', 'rb') as f:\n",
    "    dataset = pickle.load(f)\n",
    "\n",
    "# Path to the image folder\n",
    "img_root = \"./output/\"\n",
    "\n",
    "# Initialize the CLIPScore metric\n",
    "metric = CLIPScore(model_name_or_path=\"openai/clip-vit-base-patch16\")\n",
    "\n",
    "# Define image preprocessing\n",
    "preprocess = Compose([\n",
    "    Resize(224, interpolation=Image.BICUBIC),\n",
    "    CenterCrop(224),\n",
    "    ToTensor(),\n",
    "    Normalize(mean=(0.48145466, 0.4578275, 0.40821073), std=(0.26862954, 0.26130258, 0.27577711)),\n",
    "])\n",
    "\n",
    "clip_score = 0\n",
    "num_images = 250  # Total number of images to process\n",
    "\n",
    "# Loop through the dataset and compute CLIP scores\n",
    "for idx in tqdm(range(num_images)):\n",
    "    caption = dataset[idx]['textual_condition']\n",
    "    img_path = img_root + str(idx) + '.png'\n",
    "    \n",
    "    try:\n",
    "        # Load and preprocess the image\n",
    "        image = Image.open(img_path).convert(\"RGB\")\n",
    "        image_tensor = preprocess(image).unsqueeze(0)  # Add batch dimension\n",
    "\n",
    "        # Compute the CLIP score\n",
    "        score = metric(image_tensor, caption)\n",
    "        clip_score += score.detach().item()\n",
    "    except Exception as e:\n",
    "        print(f\"Error processing image {img_path}: {e}\")\n",
    "\n",
    "# Compute the average CLIP score\n",
    "average_clip_score = clip_score / num_images\n",
    "print(f\"Average CLIP Score: {average_clip_score:.4f}\")\n",
    "\n",
    "    "
   ]
  }
 ],
 "metadata": {
  "kernelspec": {
   "display_name": "Python 3",
   "language": "python",
   "name": "python3"
  },
  "language_info": {
   "codemirror_mode": {
    "name": "ipython",
    "version": 3
   },
   "file_extension": ".py",
   "mimetype": "text/x-python",
   "name": "python",
   "nbconvert_exporter": "python",
   "pygments_lexer": "ipython3",
   "version": "3.10.16"
  }
 },
 "nbformat": 4,
 "nbformat_minor": 2
}
